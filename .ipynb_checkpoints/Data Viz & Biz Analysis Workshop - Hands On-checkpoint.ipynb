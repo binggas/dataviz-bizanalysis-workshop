{
 "cells": [
  {
   "cell_type": "markdown",
   "metadata": {},
   "source": [
    "# Data Visualization & Business Analysis"
   ]
  },
  {
   "cell_type": "markdown",
   "metadata": {},
   "source": [
    "### About today\n",
    "\n",
    "- We will be using the Superstore dataset, consisting of 9800 data points and 18 features\n",
    "- We will try to answer several questions regarding of how the business has performed.\n",
    "\n",
    "The business would probably have certain metrics to measure the business performance (e.g.: the northstar metric or OKR).\n",
    "\n",
    "We will not be focusing on postulating the next year's OKR but it probably would go as something like:\n",
    "    - Objective 1: Be the go to \n",
    "    Key results:\n",
    "    1. Increase sales number by xx %\n",
    "    2. Increase transaction number by xx %\n",
    "    \n",
    "    - Objective 2: Be the most trusted one stop superstore in the country\n",
    "    Key results:\n",
    "    1. Increase customer retention number by xx %\n",
    "    2. Increase foot traffic by xx %\n",
    "    3. Increase shipping capacity by xx %\n",
    "    \n",
    "Assuming that we get the objectives and key results right, we can see that the business might want to focus on:\n",
    "1. Sales pattern\n",
    "2. Transaction pattern\n",
    "3. Customer behavior (i.e.: retention)\n",
    "4. Shipping schedule traffic\n",
    "\n",
    "\n",
    "Those four are going to be our main theme for today.\n",
    "\n",
    "The goal for this course is to help the business to understand the numbers in the right context and help them in making decisions."
   ]
  },
  {
   "cell_type": "markdown",
   "metadata": {},
   "source": [
    "# Import package"
   ]
  },
  {
   "cell_type": "code",
   "execution_count": null,
   "metadata": {},
   "outputs": [],
   "source": [
    "import numpy as np\n",
    "import pandas as pd\n",
    "import matplotlib.pyplot as plt\n",
    "import matplotlib.dates as mdates\n",
    "import seaborn as sns\n",
    "\n",
    "sns.set_style(\"darkgrid\")\n",
    "sns.set(font_scale = 1.3)\n",
    "\n",
    "%matplotlib inline"
   ]
  },
  {
   "cell_type": "markdown",
   "metadata": {},
   "source": [
    "# Import Data"
   ]
  },
  {
   "cell_type": "code",
   "execution_count": null,
   "metadata": {},
   "outputs": [],
   "source": [
    "df = pd.read_csv(\"data/Superstore Sales Dataset.csv\", parse_dates=['Order Date', 'Ship Date'])\n",
    "print(\"Row number: {:d}\".format(df.shape[0]))\n",
    "print(\"Column number: {:d}\".format(df.shape[1]))\n",
    "df.head()"
   ]
  },
  {
   "cell_type": "markdown",
   "metadata": {},
   "source": [
    "# Foundational Exploration\n",
    "\n",
    "Few questions to ask:\n",
    "1. What's the transaction looks like for each segment, region, and category?\n",
    "2. What's the sales number look like for each category?\n",
    "3. Each region?\n",
    "4. What's the total sales each year?\n",
    "5. What's the average sales each year?"
   ]
  },
  {
   "cell_type": "markdown",
   "metadata": {},
   "source": [
    "## Sales"
   ]
  },
  {
   "cell_type": "markdown",
   "metadata": {},
   "source": [
    "### Sales points by category"
   ]
  },
  {
   "cell_type": "code",
   "execution_count": null,
   "metadata": {},
   "outputs": [],
   "source": [
    "sns.catplot(data=df,\n",
    "           x='Category',\n",
    "            y='Sales',\n",
    "            # change it to boxplot\n",
    "            kind='strip',\n",
    "            # hide outliers\n",
    "\n",
    "            height=8,\n",
    "            aspect=1\n",
    "           )\n",
    "\n",
    "# change y-scale to log\n",
    "\n",
    "plt.show()"
   ]
  },
  {
   "cell_type": "markdown",
   "metadata": {},
   "source": [
    "- For every sale point, it gets represented by a dot.\n",
    "- We can clearly see that the range of sale numbers for furniture and technology are much higher than office supplies"
   ]
  },
  {
   "cell_type": "code",
   "execution_count": null,
   "metadata": {},
   "outputs": [],
   "source": [
    "# Bonus: try ecdf\n",
    "\n",
    "# change x-scale to log"
   ]
  },
  {
   "cell_type": "markdown",
   "metadata": {},
   "source": [
    "### Total sales by category"
   ]
  },
  {
   "cell_type": "code",
   "execution_count": null,
   "metadata": {},
   "outputs": [],
   "source": [
    "df_sales = df.groupby(\"Category\").agg({'Order ID':'count',\n",
    "                              'Sales': 'sum'\n",
    "                              })\n",
    "\n",
    "\n",
    "df_sales.rename(columns={'Order ID':'Count'}, inplace=True)\n",
    "\n",
    "df_sales.reset_index(inplace=True)\n",
    "\n",
    "print(df_sales.shape)\n",
    "df_sales.head()"
   ]
  },
  {
   "cell_type": "code",
   "execution_count": null,
   "metadata": {},
   "outputs": [],
   "source": [
    "fig, ax = plt.subplots(figsize=(16,8))\n",
    "\n",
    "sns.barplot(data=df_sales,\n",
    "           x='Category',\n",
    "            y='Sales'\n",
    "           )\n",
    "\n",
    "plt.title(\"Total Sales by Category\")\n",
    "\n",
    "plt.show()"
   ]
  },
  {
   "cell_type": "markdown",
   "metadata": {},
   "source": [
    "### Sales distribution by segment and region"
   ]
  },
  {
   "cell_type": "code",
   "execution_count": null,
   "metadata": {
    "scrolled": false
   },
   "outputs": [],
   "source": [
    "sns.catplot(data=df,\n",
    "           x='Category',\n",
    "            y='Sales',\n",
    "            col='Region',\n",
    "            row='Segment',\n",
    "            kind='box',\n",
    "            showfliers=False,\n",
    "            height=8,\n",
    "            aspect=0.5\n",
    "           )\n",
    "plt.show()"
   ]
  },
  {
   "cell_type": "markdown",
   "metadata": {},
   "source": [
    "### Annual Sales Sum"
   ]
  },
  {
   "cell_type": "code",
   "execution_count": null,
   "metadata": {},
   "outputs": [],
   "source": [
    "df_sales = df[['Order Date', 'Sales']].copy()\n",
    "df_sales.set_index('Order Date', inplace=True)\n",
    "df_sales.head()"
   ]
  },
  {
   "cell_type": "code",
   "execution_count": null,
   "metadata": {
    "scrolled": false
   },
   "outputs": [],
   "source": [
    "df_sales_year = df_sales.resample('Y').sum()\n",
    "\n",
    "fig, ax = plt.subplots(figsize=(16,8))\n",
    "\n",
    "# plot the graph\n",
    "\n",
    "\n",
    "# adjust the  y-ticks\n",
    "\n",
    "\n",
    "# adjust the x-ticks and limit\n",
    "\n",
    "# only use horizontal grid\n",
    "\n",
    "\n",
    "plt.title(\"Total Sales by Year\")\n",
    "\n",
    "plt.show()"
   ]
  },
  {
   "cell_type": "markdown",
   "metadata": {},
   "source": [
    "- By total sales per year, things are looking up!"
   ]
  },
  {
   "cell_type": "code",
   "execution_count": null,
   "metadata": {},
   "outputs": [],
   "source": [
    "# now to the same thing for sale average\n"
   ]
  },
  {
   "cell_type": "markdown",
   "metadata": {},
   "source": [
    "## Transactions"
   ]
  },
  {
   "cell_type": "markdown",
   "metadata": {},
   "source": [
    "### Transactions count categorical columns"
   ]
  },
  {
   "cell_type": "code",
   "execution_count": null,
   "metadata": {},
   "outputs": [],
   "source": [
    "columns = ['Segment', 'Region', 'Category']"
   ]
  },
  {
   "cell_type": "code",
   "execution_count": null,
   "metadata": {},
   "outputs": [],
   "source": [
    "fig, ax = plt.subplots(figsize=(16,8))\n",
    "sns.countplot(data=df,\n",
    "              x=\"Segment\"\n",
    "             )\n",
    "plt.title(\"Segment\")\n",
    "plt.xlabel('')\n",
    "plt.xticks(rotation=45)\n",
    "plt.show()"
   ]
  },
  {
   "cell_type": "code",
   "execution_count": null,
   "metadata": {
    "scrolled": true
   },
   "outputs": [],
   "source": [
    "# now do it for every element in columns\n"
   ]
  },
  {
   "cell_type": "markdown",
   "metadata": {},
   "source": [
    "### Daily transaction by category"
   ]
  },
  {
   "cell_type": "code",
   "execution_count": null,
   "metadata": {},
   "outputs": [],
   "source": [
    "df_stacked = df.groupby(['Order Date', 'Category']).agg({'Order ID':'nunique'})\n",
    "df_stacked = df_stacked.unstack(level='Category')\n",
    "df_stacked.columns = df_stacked.columns.get_level_values(1)\n",
    "df_stacked.head()"
   ]
  },
  {
   "cell_type": "code",
   "execution_count": null,
   "metadata": {},
   "outputs": [],
   "source": [
    "# make a stacked bar of transaction for each category in the past 30 days\n"
   ]
  },
  {
   "cell_type": "markdown",
   "metadata": {},
   "source": [
    "# And then what?"
   ]
  },
  {
   "cell_type": "markdown",
   "metadata": {},
   "source": [
    "- So far the insights have been helping us to understand the data better. But does it help us to make better decision?\n",
    "\n",
    "- So now we know a few things:\n",
    "    1. Total sales by year keep rising but the average tanked.\n",
    "    2. Most transactions happened for office supplies but they are among the lowest sale number (possibly due to price)"
   ]
  },
  {
   "cell_type": "markdown",
   "metadata": {},
   "source": [
    "# Make it more insightful"
   ]
  },
  {
   "cell_type": "markdown",
   "metadata": {},
   "source": [
    "## Transaction pattern"
   ]
  },
  {
   "cell_type": "code",
   "execution_count": null,
   "metadata": {},
   "outputs": [],
   "source": [
    "df_s = df.groupby([\"Order Date\"]).agg({\"Order ID\": \"nunique\"})\n",
    "\n",
    "df_s.rename(columns={'Order ID':'Count Order'}, inplace=True)\n",
    "\n",
    "print(df_s.shape)\n",
    "df_s.head()"
   ]
  },
  {
   "cell_type": "code",
   "execution_count": null,
   "metadata": {},
   "outputs": [],
   "source": [
    "df_s = df_s.asfreq('D')\n",
    "df_s.head()"
   ]
  },
  {
   "cell_type": "code",
   "execution_count": null,
   "metadata": {},
   "outputs": [],
   "source": [
    "df_s.fillna(0, inplace=True)\n",
    "df_s.head(10)"
   ]
  },
  {
   "cell_type": "code",
   "execution_count": null,
   "metadata": {},
   "outputs": [],
   "source": [
    "fig, ax = plt.subplots(figsize=(16,8))\n",
    "\n",
    "df_s['Count Order'].plot(linewidth=1)\n",
    "\n",
    "plt.show()"
   ]
  },
  {
   "cell_type": "markdown",
   "metadata": {},
   "source": [
    "- OK this graph is not helping anyone.\n",
    "\n",
    "- But we do see some peaks and oscilations. Let's take a look a bit more"
   ]
  },
  {
   "cell_type": "markdown",
   "metadata": {},
   "source": [
    "### Daily transaction by year"
   ]
  },
  {
   "cell_type": "code",
   "execution_count": null,
   "metadata": {},
   "outputs": [],
   "source": [
    "fig, ax = plt.subplots(4,figsize=(16,10))\n",
    "\n",
    "ax[0].plot(df_s.loc['2015', 'Count Order'], linewidth=1)\n",
    "ax[1].plot(df_s.loc['2016', 'Count Order'], linewidth=1)\n",
    "ax[2].plot(df_s.loc['2017', 'Count Order'], linewidth=1)\n",
    "ax[3].plot(df_s.loc['2018', 'Count Order'], linewidth=1)\n",
    "\n",
    "plt.show()"
   ]
  },
  {
   "cell_type": "markdown",
   "metadata": {},
   "source": [
    "- Now let's zoom in a bit"
   ]
  },
  {
   "cell_type": "code",
   "execution_count": null,
   "metadata": {},
   "outputs": [],
   "source": [
    "# Plot the data for only one month for each year\n"
   ]
  },
  {
   "cell_type": "markdown",
   "metadata": {},
   "source": [
    "- Can wee see any seasonality?"
   ]
  },
  {
   "cell_type": "code",
   "execution_count": null,
   "metadata": {},
   "outputs": [],
   "source": [
    "# Plot the data for only one one for each year BUT with mondays as ticks\n"
   ]
  },
  {
   "cell_type": "markdown",
   "metadata": {},
   "source": [
    "- There doesn't seem to be any seasonality pattern. The customer purchasing behavior might be a bit random (not confined by specific days).\n",
    "\n",
    "- But let's take a look the the monthly pattern"
   ]
  },
  {
   "cell_type": "code",
   "execution_count": null,
   "metadata": {},
   "outputs": [],
   "source": [
    "df_s['Year'] = df_s.index.year\n",
    "df_s['Month'] = df_s.index.month\n",
    "df_s['Weekday Name'] = df_s.index.day_name()"
   ]
  },
  {
   "cell_type": "code",
   "execution_count": null,
   "metadata": {},
   "outputs": [],
   "source": [
    "df_s.head()"
   ]
  },
  {
   "cell_type": "code",
   "execution_count": null,
   "metadata": {},
   "outputs": [],
   "source": [
    "fig, ax = plt.subplots(figsize=(16,8))\n",
    "\n",
    "sns.boxplot(data=df_s, x='Month', y='Count Order')\n",
    "\n",
    "# Get rid of the outliers\n",
    "\n",
    "plt.show()"
   ]
  },
  {
   "cell_type": "markdown",
   "metadata": {},
   "source": [
    "- Now there's something interesting. The medians on year-ends are higher than the other months\n",
    "\n",
    "- Can we prove it through movements?"
   ]
  },
  {
   "cell_type": "markdown",
   "metadata": {},
   "source": [
    "### Transactions rolling average"
   ]
  },
  {
   "cell_type": "code",
   "execution_count": null,
   "metadata": {},
   "outputs": [],
   "source": [
    "df_s_7d = df_s.rolling(7, center=True).mean()\n",
    "df_s_7d.head(10)"
   ]
  },
  {
   "cell_type": "code",
   "execution_count": null,
   "metadata": {},
   "outputs": [],
   "source": [
    "# get 365 days rolling average\n"
   ]
  },
  {
   "cell_type": "code",
   "execution_count": null,
   "metadata": {},
   "outputs": [],
   "source": [
    "# Plot them.\n"
   ]
  },
  {
   "cell_type": "markdown",
   "metadata": {},
   "source": [
    "- The transactions 365-day rolling average now shows a better visual on just how much the business grows. It may not be astronomical, but it kept on going up by transaction number.\n",
    "\n",
    "\n",
    "- Now, remember the sum and average sales conundrum? We can use the same rolling average method to understand the real story"
   ]
  },
  {
   "cell_type": "code",
   "execution_count": null,
   "metadata": {},
   "outputs": [],
   "source": [
    "df_s = df.groupby([\"Order Date\"]).agg({\"Order ID\": \"nunique\", \"Sales\":\"sum\"})\n",
    "\n",
    "df_s.rename(columns={'Order ID':'Count Order'}, inplace=True)\n",
    "\n",
    "print(df_s.shape)\n",
    "df_s.head()"
   ]
  },
  {
   "cell_type": "code",
   "execution_count": null,
   "metadata": {},
   "outputs": [],
   "source": [
    "df_s_7d = df_s.rolling(30, center=True).mean()\n",
    "df_s_365d = df_s.rolling(window=365, center=True, min_periods=360).mean()"
   ]
  },
  {
   "cell_type": "code",
   "execution_count": null,
   "metadata": {},
   "outputs": [],
   "source": [
    "start, end = '2015-01', '2018-12'\n",
    "\n",
    "\n",
    "fig, ax = plt.subplots(figsize=(16,8))\n",
    "\n",
    "ax.plot(df_s.loc[:, 'Sales'], marker='.', markersize=2, color='0.6', linestyle='None', label='Daily', alpha=0.3)\n",
    "\n",
    "\n",
    "# Add 7-day day average and 365-day average\n",
    "\n",
    "\n",
    "\n",
    "# Make the plot pretty.\n",
    "\n",
    "\n",
    "plt.show()"
   ]
  },
  {
   "cell_type": "markdown",
   "metadata": {},
   "source": [
    "- Now we understand that if we average the sale number for each year, the plot might not give us a good story because the context is simply hidden.\n",
    "\n",
    "\n",
    "- The business might had some bad sale days and good sale days. Aggregating it fully would be unwise. It's better to aggregate it by neighboring context. Now we see that even if the business may not be doing well in some days, the pattern shows that it still grew by the day."
   ]
  },
  {
   "cell_type": "code",
   "execution_count": null,
   "metadata": {},
   "outputs": [],
   "source": [
    "# Bonus challenge: Do one per category or per region"
   ]
  },
  {
   "cell_type": "markdown",
   "metadata": {},
   "source": [
    "# Customer Mapping\n",
    "\n",
    "- In here we will try to understand the customer a little bit better.\n",
    "\n",
    "\n",
    "- We will attempt to map customers based on their count of transaction and how much money they spent.\n",
    "\n",
    "\n",
    "- The idea is that we can segment these customers into different quadrants and determine our power customers."
   ]
  },
  {
   "cell_type": "code",
   "execution_count": null,
   "metadata": {
    "scrolled": false
   },
   "outputs": [],
   "source": [
    "df_cust = df.groupby(\"Customer ID\").agg({'Order ID':'count',\n",
    "                              'Sales': 'sum'\n",
    "                              })\n",
    "\n",
    "\n",
    "df_cust.rename(columns={'Order ID':'Count'}, inplace=True)\n",
    "\n",
    "print(df_cust.shape)\n",
    "df_cust.head()"
   ]
  },
  {
   "cell_type": "markdown",
   "metadata": {},
   "source": [
    "- First, we check the distribution of the features"
   ]
  },
  {
   "cell_type": "code",
   "execution_count": null,
   "metadata": {},
   "outputs": [],
   "source": [
    "sns.displot(data=df_cust,\n",
    "           x='Count',\n",
    "            kde=True,\n",
    "            height=8,\n",
    "            aspect=1.5\n",
    "           )\n",
    "\n",
    "plt.axvline(df_cust['Count'].mean(), color='r', linestyle='--')\n",
    "plt.axvline(np.median(df_cust['Count']), color='g', linestyle='--')\n",
    "\n",
    "\n",
    "plt.show()"
   ]
  },
  {
   "cell_type": "code",
   "execution_count": null,
   "metadata": {},
   "outputs": [],
   "source": [
    "sns.displot(data=df_cust,\n",
    "           x='Sales',\n",
    "            kde=True,\n",
    "            height=8,\n",
    "            aspect=1.5\n",
    "           )\n",
    "\n",
    "plt.axvline(df_cust['Sales'].mean(), color='r', linestyle='--')\n",
    "plt.axvline(np.median(df_cust['Sales']), color='g', linestyle='--')\n",
    "\n",
    "\n",
    "plt.show()"
   ]
  },
  {
   "cell_type": "markdown",
   "metadata": {},
   "source": [
    "- Now we try to map the quadrants"
   ]
  },
  {
   "cell_type": "code",
   "execution_count": null,
   "metadata": {
    "scrolled": false
   },
   "outputs": [],
   "source": [
    "sns.relplot(data=df_cust,\n",
    "           x= 'Count',\n",
    "            y = 'Sales',\n",
    "            s=150,\n",
    "            alpha=0.6,\n",
    "            height=8, aspect=1,\n",
    "            facet_kws={'size':8}\n",
    "           )\n",
    "\n",
    "\n",
    "# Add median with red color\n",
    "\n",
    "\n",
    "\n",
    "\n",
    "plt.title(\"Customer Mapping\")\n",
    "\n",
    "plt.show()"
   ]
  },
  {
   "cell_type": "markdown",
   "metadata": {},
   "source": [
    "- From here, we see that many customers are already considered as power customers (upper right: high transaction count and high sales total)\n",
    "\n",
    "\n",
    "- There are a lot of users in the 3rd quadrant (bottom left: low sales, low transactions) which might be a segment to focus on. We can help to identify these users so that the marketing strategy can be targeted efficiently to move them to other quadrants."
   ]
  },
  {
   "cell_type": "markdown",
   "metadata": {},
   "source": [
    "# Retention\n",
    "\n",
    "\n",
    "- User maps are cool and all. But a business usually relies on existing customers and make sure that they come back for more.\n",
    "\n",
    "\n",
    "- There are many ways to look into retention. some of them are:\n",
    "    1. L30 analysis: looking into how many times a customer purchase something in the past 30 days\n",
    "    2. Cohort analysis: looking into how many times a customer purchase something since their first purchase"
   ]
  },
  {
   "cell_type": "markdown",
   "metadata": {},
   "source": [
    "## L30 Analysis"
   ]
  },
  {
   "cell_type": "code",
   "execution_count": null,
   "metadata": {},
   "outputs": [],
   "source": [
    "df_r = df.copy()\n",
    "print(df_r.shape)\n",
    "df_r = df_r.drop_duplicates(subset=['Order ID', 'Order Date', 'Customer ID'])\n",
    "df_r = df_r[['Order Date', 'Order ID', 'Customer ID']]\n",
    "print(df_r.shape)\n",
    "df_r.head()"
   ]
  },
  {
   "cell_type": "code",
   "execution_count": null,
   "metadata": {},
   "outputs": [],
   "source": [
    "df_r = df_r.groupby(['Order Date', 'Customer ID']).agg({'Order ID':'count'})\n",
    "# df_r = df_r.asfreq('D')\n",
    "df_r.reset_index(level= 'Customer ID', inplace=True)\n",
    "df_r.head()"
   ]
  },
  {
   "cell_type": "code",
   "execution_count": null,
   "metadata": {},
   "outputs": [],
   "source": [
    "df_r = df_r.groupby('Customer ID').rolling(30, center=False, min_periods=1).sum()\n",
    "df_r.reset_index(level= 'Customer ID', inplace=True)\n",
    "df_r.head()"
   ]
  },
  {
   "cell_type": "code",
   "execution_count": null,
   "metadata": {},
   "outputs": [],
   "source": [
    "df_r = df_r.groupby(['Order Date', 'Order ID']).agg({'Order ID':'count'})\n",
    "df_r.rename(columns={'Order ID':'Count'}, inplace=True)\n",
    "df_r.reset_index(level='Order ID', inplace=True)\n",
    "df_r.rename(columns={'Order ID':'Order Num L30'}, inplace=True)\n",
    "df_r.head()"
   ]
  },
  {
   "cell_type": "code",
   "execution_count": null,
   "metadata": {},
   "outputs": [],
   "source": [
    "df_r.loc['2018-12-30']"
   ]
  },
  {
   "cell_type": "code",
   "execution_count": null,
   "metadata": {},
   "outputs": [],
   "source": [
    "sns.catplot(data=df_r,\n",
    "           x='Order Num L30',\n",
    "            y='Count',\n",
    "            kind='boxen',\n",
    "            height=10,\n",
    "            aspect=1.5\n",
    "           )\n",
    "\n",
    "plt.show()"
   ]
  },
  {
   "cell_type": "code",
   "execution_count": null,
   "metadata": {
    "scrolled": true
   },
   "outputs": [],
   "source": [
    "sns.relplot(data=df_r.reset_index(),\n",
    "             x='Order Date',\n",
    "             y='Count',\n",
    "            kind='scatter',\n",
    "            s=300,\n",
    "             row='Order Num L30',\n",
    "            height=8,\n",
    "            aspect=2,\n",
    "            facet_kws={'sharex':False}\n",
    "           )\n",
    "\n",
    "plt.show()"
   ]
  },
  {
   "cell_type": "markdown",
   "metadata": {},
   "source": [
    "- It seems like over the years, users are more likely to purchase more. This could be an indication that the business looks healthy. Meaning that users are willing to purchase more times in the past 30 days than when the store first open.\n",
    "\n",
    "\n",
    "- However, it also indicates that the business struggles to get new customers. This is an early assumption. Can we prove it?"
   ]
  },
  {
   "cell_type": "markdown",
   "metadata": {},
   "source": [
    "## Cohort"
   ]
  },
  {
   "cell_type": "code",
   "execution_count": null,
   "metadata": {},
   "outputs": [],
   "source": [
    "df_cohort = df.groupby('Customer ID').agg({'Order Date': 'min'})\n",
    "df_cohort.reset_index(inplace=True)\n",
    "\n",
    "df_cohort['Cohort Year'] = pd.DatetimeIndex(df_cohort['Order Date']).year\n",
    "\n",
    "df_cohort = df_cohort[['Customer ID', 'Cohort Year']]\n",
    "\n",
    "df_cohort.head()"
   ]
  },
  {
   "cell_type": "markdown",
   "metadata": {},
   "source": [
    "- First, let's take a look at how many new customers the business gathered over the years."
   ]
  },
  {
   "cell_type": "code",
   "execution_count": null,
   "metadata": {},
   "outputs": [],
   "source": [
    "# Make bar plot"
   ]
  },
  {
   "cell_type": "markdown",
   "metadata": {},
   "source": [
    "- Yikes. Not good. Most customers came from 2015. The graph above proves that the business DOES struggle to get new customer. We need to call the marketing team.\n",
    "\n",
    "\n",
    "- Let's take a look on the cohort analysis to see how many people came back from each cohort."
   ]
  },
  {
   "cell_type": "code",
   "execution_count": null,
   "metadata": {},
   "outputs": [],
   "source": [
    "dfx = pd.merge(df, df_cohort, on='Customer ID')\n",
    "dfx['Year'] = pd.DatetimeIndex(dfx['Order Date']).year\n",
    "\n",
    "dfx = dfx[['Cohort Year', 'Year', 'Customer ID']]\n",
    "\n",
    "dfx.head()"
   ]
  },
  {
   "cell_type": "code",
   "execution_count": null,
   "metadata": {},
   "outputs": [],
   "source": [
    "dfx = dfx.groupby(['Cohort Year', 'Customer ID']).agg({'Customer ID':'count'})\n",
    "dfx.rename(columns={'Customer ID':'Count Trx'}, inplace=True)"
   ]
  },
  {
   "cell_type": "code",
   "execution_count": null,
   "metadata": {},
   "outputs": [],
   "source": [
    "dfx.reset_index(inplace=True)\n",
    "dfx"
   ]
  },
  {
   "cell_type": "code",
   "execution_count": null,
   "metadata": {},
   "outputs": [],
   "source": [
    "dfx = dfx.groupby(['Cohort Year', 'Count Trx']).agg({'Customer ID':'nunique'})\n",
    "dfx.rename(columns={'Customer ID': 'Unique Customer'}, inplace=True)"
   ]
  },
  {
   "cell_type": "code",
   "execution_count": null,
   "metadata": {},
   "outputs": [],
   "source": [
    "dfx = dfx.unstack().fillna(0)\n",
    "dfx"
   ]
  },
  {
   "cell_type": "code",
   "execution_count": null,
   "metadata": {},
   "outputs": [],
   "source": [
    "dfx.columns = dfx.columns.get_level_values(1)\n",
    "dfx"
   ]
  },
  {
   "cell_type": "code",
   "execution_count": null,
   "metadata": {},
   "outputs": [],
   "source": [
    "dfx.loc[:, :20]"
   ]
  },
  {
   "cell_type": "code",
   "execution_count": null,
   "metadata": {},
   "outputs": [],
   "source": [
    "# Make heatmap from the DataFrame"
   ]
  },
  {
   "cell_type": "markdown",
   "metadata": {},
   "source": [
    "- This map tells a lot. It's telling us that customers who first purchased in 2015 are high transaction users. That's good.\n",
    "\n",
    "\n",
    "- But also, since we struggled with acquiring new customers, those who are from 2016 & 2017 are not looking good. There are rooms from improvement.\n",
    "\n",
    "\n",
    "- This is bascially saying that we highly depend on customers from 2015..."
   ]
  },
  {
   "cell_type": "markdown",
   "metadata": {},
   "source": [
    "# Bonus: Heatmap"
   ]
  },
  {
   "cell_type": "code",
   "execution_count": null,
   "metadata": {},
   "outputs": [],
   "source": [
    "df_h = df.groupby(['Order Date']).agg({'Order ID':'nunique',\n",
    "                                        'Sales':'sum'})\n",
    "df_h.rename(columns={'Order ID':'Count'}, inplace=True)\n",
    "\n",
    "df_h.head()"
   ]
  },
  {
   "cell_type": "code",
   "execution_count": null,
   "metadata": {},
   "outputs": [],
   "source": [
    "df_h = df_h.asfreq('D')\n",
    "df_h.fillna(0, inplace=True)\n",
    "\n",
    "df_h['Year'] = df_h.index.year\n",
    "df_h['Month'] = df_h.index.month\n",
    "df_h['Weekday Name'] = df_h.index.day_name()\n",
    "\n",
    "df_h.head()"
   ]
  },
  {
   "cell_type": "code",
   "execution_count": null,
   "metadata": {},
   "outputs": [],
   "source": [
    "df_pivot = df_h.pivot_table(index='Year', columns='Month', values='Count', aggfunc='sum')\n",
    "df_pivot"
   ]
  },
  {
   "cell_type": "markdown",
   "metadata": {},
   "source": [
    "## Transaction count"
   ]
  },
  {
   "cell_type": "code",
   "execution_count": null,
   "metadata": {},
   "outputs": [],
   "source": [
    "fig, ax = plt.subplots(figsize=(16,8))\n",
    "\n",
    "sns.heatmap(df_pivot, \n",
    "            annot = True,\n",
    "            cmap=sns.cubehelix_palette(), \n",
    "            linewidths=0.3)\n",
    "\n",
    "ax.set_xticklabels([\"Jan\", \"Feb\", \"Mar\", \"Apr\", \"May\", \"Jun\", \"Jul\", \"Aug\", \"Sep\", \"Oct\", \"Nov\", \"Dec\"])\n",
    "ax.xaxis.tick_top()\n",
    "\n",
    "plt.yticks(rotation=0)\n",
    "\n",
    "plt.xlabel(\"\")\n",
    "plt.ylabel(\"\")\n",
    "\n",
    "plt.title(\"Transaction Count by Month-Year\")\n",
    "\n",
    "plt.show()"
   ]
  },
  {
   "cell_type": "markdown",
   "metadata": {},
   "source": [
    "## Total sales"
   ]
  },
  {
   "cell_type": "code",
   "execution_count": null,
   "metadata": {},
   "outputs": [],
   "source": [
    "df_pivot = df_h.pivot_table(index='Year', columns='Month', values='Sales', aggfunc='sum')\n",
    "df_pivot"
   ]
  },
  {
   "cell_type": "code",
   "execution_count": null,
   "metadata": {},
   "outputs": [],
   "source": [
    "# Make the same heatmap but for sales\n"
   ]
  },
  {
   "cell_type": "code",
   "execution_count": null,
   "metadata": {},
   "outputs": [],
   "source": [
    "# Make the same heatmap but for shipping count\n"
   ]
  },
  {
   "cell_type": "markdown",
   "metadata": {},
   "source": [
    "- From these charts, we have a better comparative density of activities (transactions, sales, and shipping activity).\n",
    "\n",
    "\n",
    "\n",
    "- It does seem like the business have to plan ahead for year-end since the traffic would be far more than usual."
   ]
  },
  {
   "cell_type": "code",
   "execution_count": null,
   "metadata": {},
   "outputs": [],
   "source": []
  }
 ],
 "metadata": {
  "kernelspec": {
   "display_name": "Python 3",
   "language": "python",
   "name": "python3"
  },
  "language_info": {
   "codemirror_mode": {
    "name": "ipython",
    "version": 3
   },
   "file_extension": ".py",
   "mimetype": "text/x-python",
   "name": "python",
   "nbconvert_exporter": "python",
   "pygments_lexer": "ipython3",
   "version": "3.7.4"
  }
 },
 "nbformat": 4,
 "nbformat_minor": 2
}
